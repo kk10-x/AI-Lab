{
 "cells": [
  {
   "cell_type": "markdown",
   "metadata": {},
   "source": [
    "# Vacuum Cleaner Program"
   ]
  },
  {
   "cell_type": "markdown",
   "metadata": {},
   "source": [
    "## Objective\n",
    "Given M x N grid(floor) create an agent that moves around the grid until the entire grid is clean\n",
    " - Move the agent anyway you see fit until the floor is clean\n",
    " - Agent can start at any tile on the floor\n",
    "![](https://miro.medium.com/max/457/0*6KFwkRH_OQxO62st)"
   ]
  },
  {
   "cell_type": "markdown",
   "metadata": {},
   "source": [
    "# Code\n",
    "1. Create your clean function\n",
    "2. Create a print function that shows current position of the vaccum cleaner at every move your agent makes\n",
    "\n"
   ]
  },
  {
   "cell_type": "markdown",
   "metadata": {},
   "source": [
    "### Floor is represented in this manner\n",
    "```\n",
    "# '1' represents dirty and '0' represents clean\n",
    "floor = [[1, 0, 0, 0], \n",
    "         [0, 1, 0, 1],\n",
    "         [1, 0, 1, 1]]\n",
    "```\n",
    "To clean simply convert '1' to '0'"
   ]
  },
  {
   "cell_type": "code",
   "execution_count": 1,
   "metadata": {
    "_cell_guid": "79c7e3d0-c299-4dcb-8224-4455121ee9b0",
    "_uuid": "d629ff2d2480ee46fbb7e2d37f6b5fab8052498a"
   },
   "outputs": [],
   "source": [
    "def clean(floor, row, col):\n",
    "    i, j, m, n = row, col, len(floor), len(floor[0])\n",
    "    goRight = goDown = True\n",
    "    cleaned = [not any(f) for f in floor]\n",
    "    while not all(cleaned):\n",
    "        while any(floor[i]):\n",
    "            print_floor(floor, i, j)\n",
    "            if floor[i][j]:\n",
    "                floor[i][j] = 0\n",
    "                print_floor(floor, i, j)\n",
    "            if not any(floor[i]):\n",
    "                cleaned[i] = True\n",
    "                break\n",
    "            if j == n - 1:\n",
    "                j -= 1\n",
    "                goRight = False\n",
    "            elif j == 0:\n",
    "                j += 1\n",
    "                goRight = True\n",
    "            else:\n",
    "                j += 1 if goRight else -1\n",
    "        if all(cleaned):\n",
    "            break\n",
    "        if i == m - 1:\n",
    "            i -= 1\n",
    "            goDown = False\n",
    "        elif i == 0:\n",
    "            i += 1\n",
    "            goDown = True\n",
    "        else:\n",
    "            i += 1 if goDown else -1\n",
    "        if cleaned[i]:\n",
    "            print_floor(floor, i, j)\n",
    "        \n",
    "        "
   ]
  },
  {
   "cell_type": "code",
   "execution_count": 2,
   "metadata": {},
   "outputs": [],
   "source": [
    "def print_floor(floor, row, col): # row, col represent the current vacuum cleaner position\n",
    "    for r in range(len(floor)):\n",
    "        for c in range(len(floor[r])):\n",
    "            if r == row and c == col:\n",
    "                print(f\" >{floor[r][c]}< \", end = '')\n",
    "            else:\n",
    "                print(f\"  {floor[r][c]}  \", end = '')\n",
    "        print(end = '\\n')\n",
    "    print(end = '\\n')\n",
    "            "
   ]
  },
  {
   "cell_type": "code",
   "execution_count": 3,
   "metadata": {},
   "outputs": [
    {
     "name": "stdout",
     "output_type": "stream",
     "text": [
      "  1    0    0    0  \n",
      "  0    1   >0<   1  \n",
      "  1    0    1    1  \n",
      "\n",
      "  1    0    0    0  \n",
      "  0    1    0   >1< \n",
      "  1    0    1    1  \n",
      "\n",
      "  1    0    0    0  \n",
      "  0    1    0   >0< \n",
      "  1    0    1    1  \n",
      "\n",
      "  1    0    0    0  \n",
      "  0    1   >0<   0  \n",
      "  1    0    1    1  \n",
      "\n",
      "  1    0    0    0  \n",
      "  0   >1<   0    0  \n",
      "  1    0    1    1  \n",
      "\n",
      "  1    0    0    0  \n",
      "  0   >0<   0    0  \n",
      "  1    0    1    1  \n",
      "\n",
      "  1    0    0    0  \n",
      "  0    0    0    0  \n",
      "  1   >0<   1    1  \n",
      "\n",
      "  1    0    0    0  \n",
      "  0    0    0    0  \n",
      " >1<   0    1    1  \n",
      "\n",
      "  1    0    0    0  \n",
      "  0    0    0    0  \n",
      " >0<   0    1    1  \n",
      "\n",
      "  1    0    0    0  \n",
      "  0    0    0    0  \n",
      "  0   >0<   1    1  \n",
      "\n",
      "  1    0    0    0  \n",
      "  0    0    0    0  \n",
      "  0    0   >1<   1  \n",
      "\n",
      "  1    0    0    0  \n",
      "  0    0    0    0  \n",
      "  0    0   >0<   1  \n",
      "\n",
      "  1    0    0    0  \n",
      "  0    0    0    0  \n",
      "  0    0    0   >1< \n",
      "\n",
      "  1    0    0    0  \n",
      "  0    0    0    0  \n",
      "  0    0    0   >0< \n",
      "\n",
      "  1    0    0    0  \n",
      "  0    0    0   >0< \n",
      "  0    0    0    0  \n",
      "\n",
      "  1    0    0   >0< \n",
      "  0    0    0    0  \n",
      "  0    0    0    0  \n",
      "\n",
      "  1    0   >0<   0  \n",
      "  0    0    0    0  \n",
      "  0    0    0    0  \n",
      "\n",
      "  1   >0<   0    0  \n",
      "  0    0    0    0  \n",
      "  0    0    0    0  \n",
      "\n",
      " >1<   0    0    0  \n",
      "  0    0    0    0  \n",
      "  0    0    0    0  \n",
      "\n",
      " >0<   0    0    0  \n",
      "  0    0    0    0  \n",
      "  0    0    0    0  \n",
      "\n"
     ]
    }
   ],
   "source": [
    "# Test 1\n",
    "floor = [[1, 0, 0, 0],\n",
    "         [0, 1, 0, 1],\n",
    "         [1, 0, 1, 1]]\n",
    "\n",
    "clean(floor, 1, 2)"
   ]
  }
 ],
 "metadata": {
  "kernelspec": {
   "display_name": "Python 3",
   "language": "python",
   "name": "python3"
  },
  "language_info": {
   "codemirror_mode": {
    "name": "ipython",
    "version": 3
   },
   "file_extension": ".py",
   "mimetype": "text/x-python",
   "name": "python",
   "nbconvert_exporter": "python",
   "pygments_lexer": "ipython3",
   "version": "3.8.2"
  }
 },
 "nbformat": 4,
 "nbformat_minor": 4
}
