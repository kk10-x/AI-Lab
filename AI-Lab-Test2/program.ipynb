{
 "cells": [
  {
   "cell_type": "markdown",
   "metadata": {
    "papermill": {
     "duration": 0.007646,
     "end_time": "2020-12-28T05:50:11.648347",
     "exception": false,
     "start_time": "2020-12-28T05:50:11.640701",
     "status": "completed"
    },
    "tags": []
   },
   "source": [
    "**Khrithik S Anand 1BM18CS046**\n",
    "**29-12-2020**"
   ]
  },
  {
   "cell_type": "markdown",
   "metadata": {
    "papermill": {
     "duration": 0.005415,
     "end_time": "2020-12-28T05:50:11.659769",
     "exception": false,
     "start_time": "2020-12-28T05:50:11.654354",
     "status": "completed"
    },
    "tags": []
   },
   "source": [
    "**Design a forward reasoning system to prove the query “Rani likes Peanuts”, using forward chaining. The knowledge base has the following statements:**\n",
    "1. Rani likes all kinds of food.\n",
    "2. Peanut is food\n",
    "3. Mug is not food."
   ]
  },
  {
   "cell_type": "code",
   "execution_count": 1,
   "metadata": {
    "execution": {
     "iopub.execute_input": "2020-12-28T05:50:11.680843Z",
     "iopub.status.busy": "2020-12-28T05:50:11.680089Z",
     "iopub.status.idle": "2020-12-28T05:50:11.683253Z",
     "shell.execute_reply": "2020-12-28T05:50:11.683812Z"
    },
    "papermill": {
     "duration": 0.018713,
     "end_time": "2020-12-28T05:50:11.684015",
     "exception": false,
     "start_time": "2020-12-28T05:50:11.665302",
     "status": "completed"
    },
    "tags": []
   },
   "outputs": [],
   "source": [
    "import re\n",
    "\n",
    "def isVariable(x):\n",
    "    return len(x) == 1 and x.islower()\n",
    "\n",
    "def getAttributes(string):\n",
    "    return re.findall('\\([^)]+\\)', string)\n",
    "\n",
    "def getPredicates(string):\n",
    "    return re.findall('([a-z~]+)\\([^&]+\\)', string)"
   ]
  },
  {
   "cell_type": "code",
   "execution_count": 10,
   "metadata": {
    "execution": {
     "iopub.execute_input": "2020-12-28T05:50:11.705640Z",
     "iopub.status.busy": "2020-12-28T05:50:11.703815Z",
     "iopub.status.idle": "2020-12-28T05:50:11.709075Z",
     "shell.execute_reply": "2020-12-28T05:50:11.708452Z"
    },
    "papermill": {
     "duration": 0.019115,
     "end_time": "2020-12-28T05:50:11.709203",
     "exception": false,
     "start_time": "2020-12-28T05:50:11.690088",
     "status": "completed"
    },
    "tags": []
   },
   "outputs": [],
   "source": [
    "class Fact:\n",
    "    def __init__(self, expression):\n",
    "        self.expression = expression\n",
    "        predicate, params = self.splitExpression(expression)\n",
    "        self.predicate = predicate\n",
    "        self.params = params\n",
    "        self.result = any(self.getConstants())\n",
    "        \n",
    "    def splitExpression(self, expression):\n",
    "        predicate = getPredicates(expression)[0]\n",
    "        params = getAttributes(expression)[0].strip('()').split(',')\n",
    "        return [predicate, params]\n",
    "    \n",
    "    def getResult(self):\n",
    "        return self.result\n",
    "    \n",
    "    def getConstants(self):\n",
    "        return [None if isVariable(c) else c for c in self.params]\n",
    "    \n",
    "    def getVariables(self):\n",
    "        return [v if isVariable(v) else None for v in self.params]"
   ]
  },
  {
   "cell_type": "code",
   "execution_count": 11,
   "metadata": {
    "execution": {
     "iopub.execute_input": "2020-12-28T05:50:11.734265Z",
     "iopub.status.busy": "2020-12-28T05:50:11.733598Z",
     "iopub.status.idle": "2020-12-28T05:50:11.737119Z",
     "shell.execute_reply": "2020-12-28T05:50:11.736540Z"
    },
    "papermill": {
     "duration": 0.022212,
     "end_time": "2020-12-28T05:50:11.737237",
     "exception": false,
     "start_time": "2020-12-28T05:50:11.715025",
     "status": "completed"
    },
    "tags": []
   },
   "outputs": [],
   "source": [
    "class Implication:\n",
    "    def __init__(self, expression):\n",
    "        self.expression = expression\n",
    "        l = expression.split('=>')\n",
    "        self.lhs = [Fact(f) for f in l[0].split('&')]\n",
    "        self.rhs = Fact(l[1])\n",
    "        \n",
    "    def evaluate(self, facts):\n",
    "        constants = {}\n",
    "        new_lhs = []\n",
    "        for fact in facts:\n",
    "            for val in self.lhs + [self.rhs]:\n",
    "                if val.predicate == fact.predicate:\n",
    "                    for i, v in enumerate(val.getVariables()):\n",
    "                        if v:\n",
    "                            constants[v] = fact.getConstants()[i]\n",
    "                    new_lhs.append(fact)\n",
    "        predicate, attributes = self.rhs.predicate, '('+','.join(self.rhs.params)+')'\n",
    "        for key in constants:\n",
    "            if constants[key]:\n",
    "                attributes = attributes.replace(key, constants[key])\n",
    "        expr = f'{predicate}{attributes}'\n",
    "        return Fact(expr) if len(new_lhs) and all([f.getResult() for f in new_lhs]) else None"
   ]
  },
  {
   "cell_type": "code",
   "execution_count": 12,
   "metadata": {
    "execution": {
     "iopub.execute_input": "2020-12-28T05:50:11.765675Z",
     "iopub.status.busy": "2020-12-28T05:50:11.764703Z",
     "iopub.status.idle": "2020-12-28T05:50:11.768276Z",
     "shell.execute_reply": "2020-12-28T05:50:11.767633Z"
    },
    "papermill": {
     "duration": 0.025177,
     "end_time": "2020-12-28T05:50:11.768430",
     "exception": false,
     "start_time": "2020-12-28T05:50:11.743253",
     "status": "completed"
    },
    "tags": []
   },
   "outputs": [],
   "source": [
    "class KB:\n",
    "    def __init__(self):\n",
    "        self.facts = set()\n",
    "        self.implications = set()\n",
    "            \n",
    "    def tell(self, e):\n",
    "        if '=>' in e:\n",
    "            self.implications.add(Implication(e))\n",
    "        else:\n",
    "            self.facts.add(Fact(e))\n",
    "        for i in self.implications:\n",
    "            res = i.evaluate(self.facts)\n",
    "            if res:\n",
    "                self.facts.add(res)\n",
    "\n",
    "    def query(self, e):\n",
    "        for i in self.implications:\n",
    "            res = i.evaluate(self.facts)\n",
    "            if res:\n",
    "                self.facts.add(res)\n",
    "        facts = set([f.expression for f in self.facts])\n",
    "        i = 1\n",
    "        print(f'Querying {e}:')\n",
    "        for f in facts:\n",
    "            if Fact(f).expression == Fact(e).expression:\n",
    "                print(f'The query {e} is satisfied.')\n",
    "                return\n",
    "        print(f'The query {e} is refuted.')\n",
    "    \n",
    "    def display(self):\n",
    "        for i in self.implications:\n",
    "            res = i.evaluate(self.facts)\n",
    "            if res:\n",
    "                self.facts.add(res)\n",
    "        print(\"All facts: \")\n",
    "        for i, f in enumerate(set([f.expression for f in self.facts])):\n",
    "            print(f'\\t{i+1}. {f}')"
   ]
  },
  {
   "cell_type": "code",
   "execution_count": 14,
   "metadata": {
    "execution": {
     "iopub.execute_input": "2020-12-28T05:50:11.790490Z",
     "iopub.status.busy": "2020-12-28T05:50:11.789360Z",
     "iopub.status.idle": "2020-12-28T05:50:11.794814Z",
     "shell.execute_reply": "2020-12-28T05:50:11.795329Z"
    },
    "papermill": {
     "duration": 0.020617,
     "end_time": "2020-12-28T05:50:11.795522",
     "exception": false,
     "start_time": "2020-12-28T05:50:11.774905",
     "status": "completed"
    },
    "tags": []
   },
   "outputs": [
    {
     "name": "stdout",
     "output_type": "stream",
     "text": [
      "Querying likes(Peanut,Rani):\n",
      "The query likes(Peanut,Rani) is satisfied.\n",
      "\n",
      "All facts: \n",
      "\t1. food(Peanut)\n",
      "\t2. likes(Peanut,Rani)\n",
      "\t3. ~food(Mug)\n"
     ]
    }
   ],
   "source": [
    "kb = KB()\n",
    "kb.tell('food(x)=>likes(x,Rani)') \n",
    "kb.tell('food(Peanut)')\n",
    "kb.tell('~food(Mug)')\n",
    "\n",
    "\n",
    "kb.query('likes(Peanut,Rani)')      \n",
    "print()\n",
    "kb.display()"
   ]
  }
 ],
 "metadata": {
  "kernelspec": {
   "display_name": "Python 3",
   "language": "python",
   "name": "python3"
  },
  "language_info": {
   "codemirror_mode": {
    "name": "ipython",
    "version": 3
   },
   "file_extension": ".py",
   "mimetype": "text/x-python",
   "name": "python",
   "nbconvert_exporter": "python",
   "pygments_lexer": "ipython3",
   "version": "3.8.2"
  },
  "papermill": {
   "duration": 5.870679,
   "end_time": "2020-12-28T05:50:12.825858",
   "environment_variables": {},
   "exception": null,
   "input_path": "__notebook__.ipynb",
   "output_path": "__notebook__.ipynb",
   "parameters": {},
   "start_time": "2020-12-28T05:50:06.955179",
   "version": "2.1.0"
  }
 },
 "nbformat": 4,
 "nbformat_minor": 4
}
